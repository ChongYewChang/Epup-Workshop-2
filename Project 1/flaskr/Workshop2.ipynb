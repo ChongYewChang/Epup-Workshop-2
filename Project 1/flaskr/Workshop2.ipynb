{
 "cells": [
  {
   "cell_type": "markdown",
   "metadata": {
    "slideshow": {
     "slide_type": "slide"
    }
   },
   "source": [
    "# Engineering Power-up program Python Programming Workshop 2\n",
    "\n",
    "<img src = \"https://media.istockphoto.com/photos/software-development-concept-python-programming-language-picture-id504820816\"></img>"
   ]
  },
  {
   "cell_type": "markdown",
   "metadata": {
    "slideshow": {
     "slide_type": "slide"
    }
   },
   "source": [
    "| Time        \t| Content                              \t|\n",
    "|-------------\t|--------------------------------------\t|\n",
    "| 1:15 - 1:30 \t| Introduction                         \t|\n",
    "| 1:30 - 1:45 \t| How Python works underneath the hood \t|\n",
    "| 1:45 - 2:00 \t| Debugging with pdb                   \t|\n",
    "| 2:00 - 2:15 \t| Debugging with Visual Studio Code    \t|\n",
    "| 2:15 - 2:30 \t| Break time =)                        \t|\n",
    "| 2:30 - 3:00 \t| Creating your own bojangles           |\n",
    "| 3:00 - 3:30 \t| Python Flask Revision    \t            |\n",
    "| 3:30 - 3:45 \t| Break time =)                        \t|\n",
    "| 3:45 - 5:00 \t| Free working time + Questions        \t|"
   ]
  },
  {
   "cell_type": "markdown",
   "metadata": {
    "slideshow": {
     "slide_type": "slide"
    }
   },
   "source": [
    "# How python works under the hood\n",
    "\n",
    "- python is a high level interpreted language \n",
    "- python bytecode .pyc is executed by interpreter\n",
    "- python interpeter written in - C open source\n",
    "\n",
    "<img src = \"https://www.python-course.eu/images/py_pyc_overview.gif\"> </img>\n",
    "\n",
    "\n",
    "\n",
    "\n",
    "\n",
    "\n",
    "\n",
    "\n",
    "\n",
    "\n"
   ]
  },
  {
   "cell_type": "code",
   "execution_count": null,
   "metadata": {
    "slideshow": {
     "slide_type": "slide"
    }
   },
   "outputs": [],
   "source": [
    "import dis\n",
    "import timeit"
   ]
  },
  {
   "cell_type": "code",
   "execution_count": null,
   "metadata": {
    "slideshow": {
     "slide_type": "-"
    }
   },
   "outputs": [],
   "source": [
    "%timeit \"-\".join(str(n) for n in range(100))"
   ]
  },
  {
   "cell_type": "code",
   "execution_count": null,
   "metadata": {},
   "outputs": [],
   "source": [
    "%timeit \"-\".join([str(n) for n in range(100)])"
   ]
  },
  {
   "cell_type": "code",
   "execution_count": null,
   "metadata": {},
   "outputs": [],
   "source": [
    "def test_list_comp():\n",
    "    return [\"a\" for k in range(5)]\n",
    "\n",
    "def test_for_loop():\n",
    "    test_list = list()\n",
    "    for k in range(5):\n",
    "        test_list.append(\"a\")\n",
    "    return test_list"
   ]
  },
  {
   "cell_type": "code",
   "execution_count": null,
   "metadata": {},
   "outputs": [],
   "source": [
    "dis.opmap"
   ]
  },
  {
   "cell_type": "markdown",
   "metadata": {
    "slideshow": {
     "slide_type": "slide"
    }
   },
   "source": [
    "# IPython Shell\n",
    "- Command shell for interactive programming"
   ]
  },
  {
   "cell_type": "markdown",
   "metadata": {
    "slideshow": {
     "slide_type": "-"
    }
   },
   "source": [
    "<img src = \"https://www.uraimo.com/imgs/lisp.png\"> </img>"
   ]
  },
  {
   "cell_type": "markdown",
   "metadata": {
    "slideshow": {
     "slide_type": "slide"
    }
   },
   "source": [
    "<img src = \"http://nblock.org/static/files/pdb-cheatsheet.png\"> </img>"
   ]
  },
  {
   "cell_type": "code",
   "execution_count": 5,
   "metadata": {
    "slideshow": {
     "slide_type": "slide"
    }
   },
   "outputs": [
    {
     "name": "stdout",
     "output_type": "stream",
     "text": [
      "--Return--\n",
      "> <ipython-input-5-9f12e77d0f7a>(9)<module>()->None\n",
      "-> pdb.set_trace()\n",
      "(Pdb) c\n",
      "0\n",
      "1\n",
      "1\n",
      "2\n",
      "3\n",
      "Hello Chong\n"
     ]
    }
   ],
   "source": [
    "import pdb\n",
    "\n",
    "def gen_fib(N):\n",
    "    a,b = 0,1\n",
    "    for i in range(N):\n",
    "        yield a\n",
    "        a, b = b, a + b\n",
    "\n",
    "pdb.set_trace()\n",
    "for x in gen_fib(5):\n",
    "    print(x)\n",
    "\n",
    "name = \"Chong\"\n",
    "print(f\"Hello there {name}\")\n",
    "\n",
    "\n",
    "\n"
   ]
  },
  {
   "cell_type": "markdown",
   "metadata": {
    "slideshow": {
     "slide_type": "slide"
    }
   },
   "source": [
    "# Debugging with Visual Studio Code"
   ]
  },
  {
   "cell_type": "markdown",
   "metadata": {
    "slideshow": {
     "slide_type": "slide"
    }
   },
   "source": [
    "# Make your own bojangles review"
   ]
  },
  {
   "cell_type": "markdown",
   "metadata": {
    "slideshow": {
     "slide_type": "slide"
    }
   },
   "source": [
    "## Datetimes\n",
    "\n",
    "A date in Python is not a data type of its own, but we can import a module named datetime to work with dates as date objects."
   ]
  },
  {
   "cell_type": "code",
   "execution_count": null,
   "metadata": {},
   "outputs": [],
   "source": [
    "from datetime import datetime\n",
    "\n",
    "x = datetime.now()\n",
    "print(x)\n",
    "print(x.year)\n",
    "# strftime is datetime to string\n",
    "print(x.strftime(\"%a\"))"
   ]
  },
  {
   "cell_type": "markdown",
   "metadata": {
    "slideshow": {
     "slide_type": "slide"
    }
   },
   "source": [
    "# How would we convert a string into a datetime?"
   ]
  },
  {
   "cell_type": "code",
   "execution_count": 7,
   "metadata": {},
   "outputs": [
    {
     "name": "stdout",
     "output_type": "stream",
     "text": [
      "2018-12-17 13:33:00\n",
      "2018-12-17 15:33:00\n"
     ]
    }
   ],
   "source": [
    "from datetime import datetime\n",
    "\n",
    "datetime_object = datetime.strptime('Dec 17 2018 1:33PM', '%b %d %Y %I:%M%p')\n",
    "print(datetime_object)\n",
    "datetime_object = datetime.strptime('Dec 17 2018 15:33', '%b %d %Y %H:%M')\n",
    "print(datetime_object)\n",
    "# https://docs.python.org/3/library/datetime.html"
   ]
  },
  {
   "cell_type": "markdown",
   "metadata": {
    "slideshow": {
     "slide_type": "slide"
    }
   },
   "source": [
    "## Datetime arithmetic \n",
    "\n"
   ]
  },
  {
   "cell_type": "code",
   "execution_count": null,
   "metadata": {},
   "outputs": [],
   "source": [
    "from datetime import timedelta\n",
    "\n",
    "datetime_object = datetime.strptime('Dec 17 2018 15:33', '%b %d %Y %H:%M')\n",
    "# how can we add hours? \n",
    "d = timedelta(days =1)\n",
    "print(datetime_object + d)"
   ]
  },
  {
   "cell_type": "markdown",
   "metadata": {
    "slideshow": {
     "slide_type": "slide"
    }
   },
   "source": [
    "# Exercise - Timetable planner\n",
    "\n",
    "A course code has a list of lectures and tutorials\n",
    "\n",
    "User inputs the index to choose a lecture, tutorial and lab if neccesary\n",
    "\n",
    "When the user has finished for all classes print the complete timetable"
   ]
  },
  {
   "cell_type": "markdown",
   "metadata": {},
   "source": [
    "'ACTL2131': [('Probability & Math Statistics', 'LEC', '1A', 'Mon 14-17 (w1-9,11, ColomboThB); Tue 17 (w6,8-10, Webst ThA)'), ('Probability & Math Statistics', 'LEC', '1B', 'Mon 18-21 (w1-9,11, MathewsThB); Tue 18 (w6,8-10, Law Th G04)'), ('Probability & Math Statistics', 'OTH', 'F18A', 'Fri 18-20 (w5, See School)'), ('Probability & Math Statistics', 'TUT', 'F09A', 'Fri 09-10:30 (w1-10, Webst 251)'), ('Probability & Math Statistics', 'TUT', 'F10A', 'Fri 10:30-12 (w1-10, Webst 251)'), ('Probability & Math Statistics', 'TUT', 'F12A', 'Fri 12-13:30 (w1-10, Gold G03)'), ('Probability & Math Statistics', 'TUT', 'F13A', 'Fri 13:30-15 (w1-10, Gold G03)'), ('Probability & Math Statistics', 'TUT', 'F15A', 'Fri 15-16:30 (w1-10, BUS 207)'), ('Probability & Math Statistics', 'TUT', 'F16A', 'Fri 16:30-18 (w1-10, BUS 215)'), ('Probability & Math Statistics', 'TUT', 'H10A', 'Thu 10:30-12 (w1-10, Quad 1047)'), ('Probability & Math Statistics', 'TUT', 'H12A', 'Thu 12-13:30 (w1-10, Mat 105)'), ('Probability & Math Statistics', 'TUT', 'H13A', 'Thu 13:30-15 (w1-10, Mat 105)'), ('Probability & Math Statistics', 'TUT', 'H15A', 'Thu 15-16:30 (w1-10, Quad 1046)'), ('Probability & Math Statistics', 'TUT', 'H16A', 'Thu 16:30-18 (w1-10, Quad 1046)')]\n",
    "\n",
    "- If i wanted to choose Mon 14-17 (w1-9,11, ColomboThB as my lecture i would select 1"
   ]
  },
  {
   "cell_type": "code",
   "execution_count": null,
   "metadata": {
    "slideshow": {
     "slide_type": "slide"
    }
   },
   "outputs": [],
   "source": [
    "import pickle\n",
    "# Dont worry about this\n",
    "# File I/O\n",
    "with open(\"timetable.pickle\",\"rb\") as pickle_in:\n",
    "    # treat offerings as a dictionary\n",
    "    offerings = pickle.load(pickle_in)\n",
    "print(offerings)"
   ]
  },
  {
   "cell_type": "code",
   "execution_count": null,
   "metadata": {},
   "outputs": [],
   "source": [
    "# Enter Courses -> prompt the user to input their courses\n",
    "course1 = ?\n",
    "course2 = ?\n",
    "course3 = ?"
   ]
  },
  {
   "cell_type": "code",
   "execution_count": null,
   "metadata": {},
   "outputs": [],
   "source": [
    "# Store all our courses in 1 list for easy access and reference\n",
    "semester = ?\n",
    "# we need a dictionary to store our choices for class times how do we do that?\n",
    "enrollment = ? "
   ]
  },
  {
   "cell_type": "code",
   "execution_count": null,
   "metadata": {},
   "outputs": [],
   "source": [
    "# iterate over all the courses you entered\n",
    "for course in semester:\n",
    "    # get your specific course details from \"offerings\" using \"course\" as a key\n",
    "    course_choices = ?\n",
    "    # print out all the classes in your course\n",
    "    for index,classes in enumerate(course_choices):\n",
    "        print(index,classes)\n",
    "    # enter a choice for your tutorial and lecture, this needs to be entered as a number to index course_choices list\n",
    "    tutorial = ?\n",
    "    lecture = ?\n",
    "    #lab = int(input(\"Please enter your lab\\n\"))\n",
    "    \n",
    "    # Using tutorial & lectures (which are integers) select an index in course_choices as a tutorial or lecture\n",
    "    enrollment[course] = \"lecture:\\n\" + ? \n",
    "    + \"\\n\" + \"tutorial:\\n\" + ?"
   ]
  },
  {
   "cell_type": "code",
   "execution_count": 10,
   "metadata": {},
   "outputs": [],
   "source": [
    "# print our course timetable"
   ]
  },
  {
   "cell_type": "code",
   "execution_count": 11,
   "metadata": {},
   "outputs": [
    {
     "data": {
      "text/plain": [
       "'C:\\\\Users\\\\z5115\\\\Desktop'"
      ]
     },
     "execution_count": 11,
     "metadata": {},
     "output_type": "execute_result"
    }
   ],
   "source": [
    "pwd"
   ]
  }
 ],
 "metadata": {
  "celltoolbar": "Slideshow",
  "kernelspec": {
   "display_name": "Python 3",
   "language": "python",
   "name": "python3"
  },
  "language_info": {
   "codemirror_mode": {
    "name": "ipython",
    "version": 3
   },
   "file_extension": ".py",
   "mimetype": "text/x-python",
   "name": "python",
   "nbconvert_exporter": "python",
   "pygments_lexer": "ipython3",
   "version": "3.6.4"
  }
 },
 "nbformat": 4,
 "nbformat_minor": 2
}
